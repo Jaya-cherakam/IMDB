{
 "cells": [
  {
   "cell_type": "markdown",
   "metadata": {},
   "source": [
    "# <b>Timeseries</b>"
   ]
  },
  {
   "cell_type": "code",
   "execution_count": 2,
   "metadata": {},
   "outputs": [],
   "source": [
    "#importing libraries\n",
    "%matplotlib inline\n",
    "import pandas as pd"
   ]
  },
  {
   "cell_type": "markdown",
   "metadata": {},
   "source": [
    "## <b>Prepare datetime index</b>"
   ]
  },
  {
   "cell_type": "code",
   "execution_count": 38,
   "metadata": {},
   "outputs": [
    {
     "data": {
      "text/html": [
       "<div>\n",
       "<style scoped>\n",
       "    .dataframe tbody tr th:only-of-type {\n",
       "        vertical-align: middle;\n",
       "    }\n",
       "\n",
       "    .dataframe tbody tr th {\n",
       "        vertical-align: top;\n",
       "    }\n",
       "\n",
       "    .dataframe thead th {\n",
       "        text-align: right;\n",
       "    }\n",
       "</style>\n",
       "<table border=\"1\" class=\"dataframe\">\n",
       "  <thead>\n",
       "    <tr style=\"text-align: right;\">\n",
       "      <th></th>\n",
       "      <th>SNo</th>\n",
       "      <th>Name</th>\n",
       "      <th>Symbol</th>\n",
       "      <th>Date</th>\n",
       "      <th>High</th>\n",
       "      <th>Low</th>\n",
       "      <th>Open</th>\n",
       "      <th>Close</th>\n",
       "      <th>Volume</th>\n",
       "      <th>Marketcap</th>\n",
       "    </tr>\n",
       "  </thead>\n",
       "  <tbody>\n",
       "    <tr>\n",
       "      <th>0</th>\n",
       "      <td>1</td>\n",
       "      <td>Aave</td>\n",
       "      <td>AAVE</td>\n",
       "      <td>2020-10-05 23:59:59</td>\n",
       "      <td>55.112358</td>\n",
       "      <td>49.787900</td>\n",
       "      <td>52.675035</td>\n",
       "      <td>53.219243</td>\n",
       "      <td>0.000000e+00</td>\n",
       "      <td>8.912813e+07</td>\n",
       "    </tr>\n",
       "    <tr>\n",
       "      <th>1</th>\n",
       "      <td>2</td>\n",
       "      <td>Aave</td>\n",
       "      <td>AAVE</td>\n",
       "      <td>2020-10-06 23:59:59</td>\n",
       "      <td>53.402270</td>\n",
       "      <td>40.734578</td>\n",
       "      <td>53.291969</td>\n",
       "      <td>42.401599</td>\n",
       "      <td>5.830915e+05</td>\n",
       "      <td>7.101144e+07</td>\n",
       "    </tr>\n",
       "    <tr>\n",
       "      <th>2</th>\n",
       "      <td>3</td>\n",
       "      <td>Aave</td>\n",
       "      <td>AAVE</td>\n",
       "      <td>2020-10-07 23:59:59</td>\n",
       "      <td>42.408314</td>\n",
       "      <td>35.970690</td>\n",
       "      <td>42.399947</td>\n",
       "      <td>40.083976</td>\n",
       "      <td>6.828342e+05</td>\n",
       "      <td>6.713004e+07</td>\n",
       "    </tr>\n",
       "    <tr>\n",
       "      <th>3</th>\n",
       "      <td>4</td>\n",
       "      <td>Aave</td>\n",
       "      <td>AAVE</td>\n",
       "      <td>2020-10-08 23:59:59</td>\n",
       "      <td>44.902511</td>\n",
       "      <td>36.696057</td>\n",
       "      <td>39.885262</td>\n",
       "      <td>43.764463</td>\n",
       "      <td>1.658817e+06</td>\n",
       "      <td>2.202651e+08</td>\n",
       "    </tr>\n",
       "    <tr>\n",
       "      <th>4</th>\n",
       "      <td>5</td>\n",
       "      <td>Aave</td>\n",
       "      <td>AAVE</td>\n",
       "      <td>2020-10-09 23:59:59</td>\n",
       "      <td>47.569533</td>\n",
       "      <td>43.291776</td>\n",
       "      <td>43.764463</td>\n",
       "      <td>46.817744</td>\n",
       "      <td>8.155377e+05</td>\n",
       "      <td>2.356322e+08</td>\n",
       "    </tr>\n",
       "  </tbody>\n",
       "</table>\n",
       "</div>"
      ],
      "text/plain": [
       "   SNo  Name Symbol                 Date       High        Low       Open  \\\n",
       "0    1  Aave   AAVE  2020-10-05 23:59:59  55.112358  49.787900  52.675035   \n",
       "1    2  Aave   AAVE  2020-10-06 23:59:59  53.402270  40.734578  53.291969   \n",
       "2    3  Aave   AAVE  2020-10-07 23:59:59  42.408314  35.970690  42.399947   \n",
       "3    4  Aave   AAVE  2020-10-08 23:59:59  44.902511  36.696057  39.885262   \n",
       "4    5  Aave   AAVE  2020-10-09 23:59:59  47.569533  43.291776  43.764463   \n",
       "\n",
       "       Close        Volume     Marketcap  \n",
       "0  53.219243  0.000000e+00  8.912813e+07  \n",
       "1  42.401599  5.830915e+05  7.101144e+07  \n",
       "2  40.083976  6.828342e+05  6.713004e+07  \n",
       "3  43.764463  1.658817e+06  2.202651e+08  \n",
       "4  46.817744  8.155377e+05  2.356322e+08  "
      ]
     },
     "execution_count": 38,
     "metadata": {},
     "output_type": "execute_result"
    }
   ],
   "source": [
    "#read history price from html page\n",
    "bc = pd.read_csv('data/bitcoin1.csv')\n",
    "bc.head()"
   ]
  },
  {
   "cell_type": "code",
   "execution_count": 39,
   "metadata": {},
   "outputs": [
    {
     "data": {
      "text/plain": [
       "SNo            int64\n",
       "Name          object\n",
       "Symbol        object\n",
       "Date          object\n",
       "High         float64\n",
       "Low          float64\n",
       "Open         float64\n",
       "Close        float64\n",
       "Volume       float64\n",
       "Marketcap    float64\n",
       "dtype: object"
      ]
     },
     "execution_count": 39,
     "metadata": {},
     "output_type": "execute_result"
    }
   ],
   "source": [
    "#retrieving data types of each column\n",
    "bc.dtypes"
   ]
  },
  {
   "cell_type": "code",
   "execution_count": 41,
   "metadata": {},
   "outputs": [
    {
     "data": {
      "text/plain": [
       "SNo                   int64\n",
       "Name                 object\n",
       "Symbol               object\n",
       "Date         datetime64[ns]\n",
       "High                float64\n",
       "Low                 float64\n",
       "Open                float64\n",
       "Close               float64\n",
       "Volume              float64\n",
       "Marketcap           float64\n",
       "dtype: object"
      ]
     },
     "execution_count": 41,
     "metadata": {},
     "output_type": "execute_result"
    }
   ],
   "source": [
    "#convert to datetitme data type with to_datetime\n",
    "bc.Date = pd.to_datetime(bc.Date)\n",
    "bc.dtypes"
   ]
  },
  {
   "cell_type": "code",
   "execution_count": 42,
   "metadata": {},
   "outputs": [
    {
     "data": {
      "text/html": [
       "<div>\n",
       "<style scoped>\n",
       "    .dataframe tbody tr th:only-of-type {\n",
       "        vertical-align: middle;\n",
       "    }\n",
       "\n",
       "    .dataframe tbody tr th {\n",
       "        vertical-align: top;\n",
       "    }\n",
       "\n",
       "    .dataframe thead th {\n",
       "        text-align: right;\n",
       "    }\n",
       "</style>\n",
       "<table border=\"1\" class=\"dataframe\">\n",
       "  <thead>\n",
       "    <tr style=\"text-align: right;\">\n",
       "      <th></th>\n",
       "      <th>SNo</th>\n",
       "      <th>Name</th>\n",
       "      <th>Symbol</th>\n",
       "      <th>Date</th>\n",
       "      <th>High</th>\n",
       "      <th>Low</th>\n",
       "      <th>Open</th>\n",
       "      <th>Close</th>\n",
       "      <th>Volume</th>\n",
       "      <th>Marketcap</th>\n",
       "    </tr>\n",
       "    <tr>\n",
       "      <th>Date</th>\n",
       "      <th></th>\n",
       "      <th></th>\n",
       "      <th></th>\n",
       "      <th></th>\n",
       "      <th></th>\n",
       "      <th></th>\n",
       "      <th></th>\n",
       "      <th></th>\n",
       "      <th></th>\n",
       "      <th></th>\n",
       "    </tr>\n",
       "  </thead>\n",
       "  <tbody>\n",
       "    <tr>\n",
       "      <th>2020-10-05 23:59:59</th>\n",
       "      <td>1</td>\n",
       "      <td>Aave</td>\n",
       "      <td>AAVE</td>\n",
       "      <td>2020-10-05 23:59:59</td>\n",
       "      <td>55.112358</td>\n",
       "      <td>49.787900</td>\n",
       "      <td>52.675035</td>\n",
       "      <td>53.219243</td>\n",
       "      <td>0.000000e+00</td>\n",
       "      <td>8.912813e+07</td>\n",
       "    </tr>\n",
       "    <tr>\n",
       "      <th>2020-10-06 23:59:59</th>\n",
       "      <td>2</td>\n",
       "      <td>Aave</td>\n",
       "      <td>AAVE</td>\n",
       "      <td>2020-10-06 23:59:59</td>\n",
       "      <td>53.402270</td>\n",
       "      <td>40.734578</td>\n",
       "      <td>53.291969</td>\n",
       "      <td>42.401599</td>\n",
       "      <td>5.830915e+05</td>\n",
       "      <td>7.101144e+07</td>\n",
       "    </tr>\n",
       "    <tr>\n",
       "      <th>2020-10-07 23:59:59</th>\n",
       "      <td>3</td>\n",
       "      <td>Aave</td>\n",
       "      <td>AAVE</td>\n",
       "      <td>2020-10-07 23:59:59</td>\n",
       "      <td>42.408314</td>\n",
       "      <td>35.970690</td>\n",
       "      <td>42.399947</td>\n",
       "      <td>40.083976</td>\n",
       "      <td>6.828342e+05</td>\n",
       "      <td>6.713004e+07</td>\n",
       "    </tr>\n",
       "    <tr>\n",
       "      <th>2020-10-08 23:59:59</th>\n",
       "      <td>4</td>\n",
       "      <td>Aave</td>\n",
       "      <td>AAVE</td>\n",
       "      <td>2020-10-08 23:59:59</td>\n",
       "      <td>44.902511</td>\n",
       "      <td>36.696057</td>\n",
       "      <td>39.885262</td>\n",
       "      <td>43.764463</td>\n",
       "      <td>1.658817e+06</td>\n",
       "      <td>2.202651e+08</td>\n",
       "    </tr>\n",
       "    <tr>\n",
       "      <th>2020-10-09 23:59:59</th>\n",
       "      <td>5</td>\n",
       "      <td>Aave</td>\n",
       "      <td>AAVE</td>\n",
       "      <td>2020-10-09 23:59:59</td>\n",
       "      <td>47.569533</td>\n",
       "      <td>43.291776</td>\n",
       "      <td>43.764463</td>\n",
       "      <td>46.817744</td>\n",
       "      <td>8.155377e+05</td>\n",
       "      <td>2.356322e+08</td>\n",
       "    </tr>\n",
       "  </tbody>\n",
       "</table>\n",
       "</div>"
      ],
      "text/plain": [
       "                     SNo  Name Symbol                Date       High  \\\n",
       "Date                                                                   \n",
       "2020-10-05 23:59:59    1  Aave   AAVE 2020-10-05 23:59:59  55.112358   \n",
       "2020-10-06 23:59:59    2  Aave   AAVE 2020-10-06 23:59:59  53.402270   \n",
       "2020-10-07 23:59:59    3  Aave   AAVE 2020-10-07 23:59:59  42.408314   \n",
       "2020-10-08 23:59:59    4  Aave   AAVE 2020-10-08 23:59:59  44.902511   \n",
       "2020-10-09 23:59:59    5  Aave   AAVE 2020-10-09 23:59:59  47.569533   \n",
       "\n",
       "                           Low       Open      Close        Volume  \\\n",
       "Date                                                                 \n",
       "2020-10-05 23:59:59  49.787900  52.675035  53.219243  0.000000e+00   \n",
       "2020-10-06 23:59:59  40.734578  53.291969  42.401599  5.830915e+05   \n",
       "2020-10-07 23:59:59  35.970690  42.399947  40.083976  6.828342e+05   \n",
       "2020-10-08 23:59:59  36.696057  39.885262  43.764463  1.658817e+06   \n",
       "2020-10-09 23:59:59  43.291776  43.764463  46.817744  8.155377e+05   \n",
       "\n",
       "                        Marketcap  \n",
       "Date                               \n",
       "2020-10-05 23:59:59  8.912813e+07  \n",
       "2020-10-06 23:59:59  7.101144e+07  \n",
       "2020-10-07 23:59:59  6.713004e+07  \n",
       "2020-10-08 23:59:59  2.202651e+08  \n",
       "2020-10-09 23:59:59  2.356322e+08  "
      ]
     },
     "execution_count": 42,
     "metadata": {},
     "output_type": "execute_result"
    }
   ],
   "source": [
    "#set datatime column as index\n",
    "bc.set_index(bc.Date,inplace=True)\n",
    "bc.head()"
   ]
  },
  {
   "cell_type": "code",
   "execution_count": 43,
   "metadata": {},
   "outputs": [
    {
     "data": {
      "text/html": [
       "<div>\n",
       "<style scoped>\n",
       "    .dataframe tbody tr th:only-of-type {\n",
       "        vertical-align: middle;\n",
       "    }\n",
       "\n",
       "    .dataframe tbody tr th {\n",
       "        vertical-align: top;\n",
       "    }\n",
       "\n",
       "    .dataframe thead th {\n",
       "        text-align: right;\n",
       "    }\n",
       "</style>\n",
       "<table border=\"1\" class=\"dataframe\">\n",
       "  <thead>\n",
       "    <tr style=\"text-align: right;\">\n",
       "      <th></th>\n",
       "      <th>SNo</th>\n",
       "      <th>Name</th>\n",
       "      <th>Symbol</th>\n",
       "      <th>Date</th>\n",
       "      <th>High</th>\n",
       "      <th>Low</th>\n",
       "      <th>Open</th>\n",
       "      <th>Close</th>\n",
       "      <th>Volume</th>\n",
       "      <th>Marketcap</th>\n",
       "    </tr>\n",
       "    <tr>\n",
       "      <th>Date</th>\n",
       "      <th></th>\n",
       "      <th></th>\n",
       "      <th></th>\n",
       "      <th></th>\n",
       "      <th></th>\n",
       "      <th></th>\n",
       "      <th></th>\n",
       "      <th></th>\n",
       "      <th></th>\n",
       "      <th></th>\n",
       "    </tr>\n",
       "  </thead>\n",
       "  <tbody>\n",
       "    <tr>\n",
       "      <th>2021-07-06 23:59:59</th>\n",
       "      <td>275</td>\n",
       "      <td>Aave</td>\n",
       "      <td>AAVE</td>\n",
       "      <td>2021-07-06 23:59:59</td>\n",
       "      <td>346.714780</td>\n",
       "      <td>307.997525</td>\n",
       "      <td>307.997525</td>\n",
       "      <td>316.898507</td>\n",
       "      <td>9.887055e+08</td>\n",
       "      <td>4.066776e+09</td>\n",
       "    </tr>\n",
       "    <tr>\n",
       "      <th>2021-07-05 23:59:59</th>\n",
       "      <td>274</td>\n",
       "      <td>Aave</td>\n",
       "      <td>AAVE</td>\n",
       "      <td>2021-07-05 23:59:59</td>\n",
       "      <td>317.387234</td>\n",
       "      <td>263.433881</td>\n",
       "      <td>277.110533</td>\n",
       "      <td>307.829079</td>\n",
       "      <td>7.931409e+08</td>\n",
       "      <td>3.950269e+09</td>\n",
       "    </tr>\n",
       "    <tr>\n",
       "      <th>2021-07-04 23:59:59</th>\n",
       "      <td>273</td>\n",
       "      <td>Aave</td>\n",
       "      <td>AAVE</td>\n",
       "      <td>2021-07-04 23:59:59</td>\n",
       "      <td>289.001124</td>\n",
       "      <td>248.285491</td>\n",
       "      <td>259.399426</td>\n",
       "      <td>277.038792</td>\n",
       "      <td>4.275719e+08</td>\n",
       "      <td>3.555054e+09</td>\n",
       "    </tr>\n",
       "    <tr>\n",
       "      <th>2021-07-03 23:59:59</th>\n",
       "      <td>272</td>\n",
       "      <td>Aave</td>\n",
       "      <td>AAVE</td>\n",
       "      <td>2021-07-03 23:59:59</td>\n",
       "      <td>265.107342</td>\n",
       "      <td>228.485206</td>\n",
       "      <td>234.208478</td>\n",
       "      <td>259.655225</td>\n",
       "      <td>3.853778e+08</td>\n",
       "      <td>3.331546e+09</td>\n",
       "    </tr>\n",
       "    <tr>\n",
       "      <th>2021-07-02 23:59:59</th>\n",
       "      <td>271</td>\n",
       "      <td>Aave</td>\n",
       "      <td>AAVE</td>\n",
       "      <td>2021-07-02 23:59:59</td>\n",
       "      <td>234.483957</td>\n",
       "      <td>215.951539</td>\n",
       "      <td>230.814119</td>\n",
       "      <td>233.948437</td>\n",
       "      <td>2.566395e+08</td>\n",
       "      <td>3.001542e+09</td>\n",
       "    </tr>\n",
       "  </tbody>\n",
       "</table>\n",
       "</div>"
      ],
      "text/plain": [
       "                     SNo  Name Symbol                Date        High  \\\n",
       "Date                                                                    \n",
       "2021-07-06 23:59:59  275  Aave   AAVE 2021-07-06 23:59:59  346.714780   \n",
       "2021-07-05 23:59:59  274  Aave   AAVE 2021-07-05 23:59:59  317.387234   \n",
       "2021-07-04 23:59:59  273  Aave   AAVE 2021-07-04 23:59:59  289.001124   \n",
       "2021-07-03 23:59:59  272  Aave   AAVE 2021-07-03 23:59:59  265.107342   \n",
       "2021-07-02 23:59:59  271  Aave   AAVE 2021-07-02 23:59:59  234.483957   \n",
       "\n",
       "                            Low        Open       Close        Volume  \\\n",
       "Date                                                                    \n",
       "2021-07-06 23:59:59  307.997525  307.997525  316.898507  9.887055e+08   \n",
       "2021-07-05 23:59:59  263.433881  277.110533  307.829079  7.931409e+08   \n",
       "2021-07-04 23:59:59  248.285491  259.399426  277.038792  4.275719e+08   \n",
       "2021-07-03 23:59:59  228.485206  234.208478  259.655225  3.853778e+08   \n",
       "2021-07-02 23:59:59  215.951539  230.814119  233.948437  2.566395e+08   \n",
       "\n",
       "                        Marketcap  \n",
       "Date                               \n",
       "2021-07-06 23:59:59  4.066776e+09  \n",
       "2021-07-05 23:59:59  3.950269e+09  \n",
       "2021-07-04 23:59:59  3.555054e+09  \n",
       "2021-07-03 23:59:59  3.331546e+09  \n",
       "2021-07-02 23:59:59  3.001542e+09  "
      ]
     },
     "execution_count": 43,
     "metadata": {},
     "output_type": "execute_result"
    }
   ],
   "source": [
    "# sort_index in descending order\n",
    "bc.sort_index(ascending=False,inplace=True)\n",
    "bc.head()"
   ]
  },
  {
   "cell_type": "markdown",
   "metadata": {},
   "source": [
    "## <b>Select data use datetime index</b>"
   ]
  },
  {
   "cell_type": "code",
   "execution_count": 44,
   "metadata": {},
   "outputs": [
    {
     "data": {
      "text/html": [
       "<div>\n",
       "<style scoped>\n",
       "    .dataframe tbody tr th:only-of-type {\n",
       "        vertical-align: middle;\n",
       "    }\n",
       "\n",
       "    .dataframe tbody tr th {\n",
       "        vertical-align: top;\n",
       "    }\n",
       "\n",
       "    .dataframe thead th {\n",
       "        text-align: right;\n",
       "    }\n",
       "</style>\n",
       "<table border=\"1\" class=\"dataframe\">\n",
       "  <thead>\n",
       "    <tr style=\"text-align: right;\">\n",
       "      <th></th>\n",
       "      <th>SNo</th>\n",
       "      <th>Name</th>\n",
       "      <th>Symbol</th>\n",
       "      <th>Date</th>\n",
       "      <th>High</th>\n",
       "      <th>Low</th>\n",
       "      <th>Open</th>\n",
       "      <th>Close</th>\n",
       "      <th>Volume</th>\n",
       "      <th>Marketcap</th>\n",
       "    </tr>\n",
       "    <tr>\n",
       "      <th>Date</th>\n",
       "      <th></th>\n",
       "      <th></th>\n",
       "      <th></th>\n",
       "      <th></th>\n",
       "      <th></th>\n",
       "      <th></th>\n",
       "      <th></th>\n",
       "      <th></th>\n",
       "      <th></th>\n",
       "      <th></th>\n",
       "    </tr>\n",
       "  </thead>\n",
       "  <tbody>\n",
       "    <tr>\n",
       "      <th>2021-07-02 23:59:59</th>\n",
       "      <td>271</td>\n",
       "      <td>Aave</td>\n",
       "      <td>AAVE</td>\n",
       "      <td>2021-07-02 23:59:59</td>\n",
       "      <td>234.483957</td>\n",
       "      <td>215.951539</td>\n",
       "      <td>230.814119</td>\n",
       "      <td>233.948437</td>\n",
       "      <td>2.566395e+08</td>\n",
       "      <td>3.001542e+09</td>\n",
       "    </tr>\n",
       "  </tbody>\n",
       "</table>\n",
       "</div>"
      ],
      "text/plain": [
       "                     SNo  Name Symbol                Date        High  \\\n",
       "Date                                                                    \n",
       "2021-07-02 23:59:59  271  Aave   AAVE 2021-07-02 23:59:59  234.483957   \n",
       "\n",
       "                            Low        Open       Close        Volume  \\\n",
       "Date                                                                    \n",
       "2021-07-02 23:59:59  215.951539  230.814119  233.948437  2.566395e+08   \n",
       "\n",
       "                        Marketcap  \n",
       "Date                               \n",
       "2021-07-02 23:59:59  3.001542e+09  "
      ]
     },
     "execution_count": 44,
     "metadata": {},
     "output_type": "execute_result"
    }
   ],
   "source": [
    "#select a date '2021-07-02' with .loc\n",
    "bc.loc['2021-07-02']"
   ]
  },
  {
   "cell_type": "code",
   "execution_count": 58,
   "metadata": {},
   "outputs": [
    {
     "data": {
      "text/plain": [
       "<matplotlib.axes._subplots.AxesSubplot at 0x20f8ffe4748>"
      ]
     },
     "execution_count": 58,
     "metadata": {},
     "output_type": "execute_result"
    },
    {
     "data": {
      "image/png": "[encoded data removed]",
      "text/plain": [
       "<Figure size 432x288 with 1 Axes>"
      ]
     },
     "metadata": {
      "needs_background": "light"
     },
     "output_type": "display_data"
    }
   ],
   "source": [
    "#select a month '2021-07' with .loc and plotting\n",
    "bc.loc['2021-07']['Close'].plot()"
   ]
  },
  {
   "cell_type": "code",
   "execution_count": 62,
   "metadata": {},
   "outputs": [
    {
     "data": {
      "text/plain": [
       "<matplotlib.axes._subplots.AxesSubplot at 0x20f9003ec48>"
      ]
     },
     "execution_count": 62,
     "metadata": {},
     "output_type": "execute_result"
    },
    {
     "data": {
      "image/png": "[encoded data removed]",
      "text/plain": [
       "<Figure size 432x288 with 1 Axes>"
      ]
     },
     "metadata": {
      "needs_background": "light"
     },
     "output_type": "display_data"
    }
   ],
   "source": [
    "#selecting one year and plot\n",
    "bc.loc['2021']['Close'].plot()"
   ]
  },
  {
   "cell_type": "markdown",
   "metadata": {},
   "source": [
    "## <b>Resampling</b>"
   ]
  },
  {
   "cell_type": "code",
   "execution_count": 69,
   "metadata": {},
   "outputs": [
    {
     "data": {
      "text/plain": [
       "<matplotlib.axes._subplots.AxesSubplot at 0x20f9043e108>"
      ]
     },
     "execution_count": 69,
     "metadata": {},
     "output_type": "execute_result"
    },
    {
     "data": {
      "image/png": "[encoded data removed]",
      "text/plain": [
       "<Figure size 432x288 with 1 Axes>"
      ]
     },
     "metadata": {
      "needs_background": "light"
     },
     "output_type": "display_data"
    }
   ],
   "source": [
    "# resample by month with mean function the plot close price\n",
    "bc_2021 = bc.loc['2021']\n",
    "bc_2021.resample('M').mean()['Close'].plot()"
   ]
  },
  {
   "cell_type": "code",
   "execution_count": 73,
   "metadata": {
    "scrolled": true
   },
   "outputs": [
    {
     "data": {
      "text/plain": [
       "<matplotlib.axes._subplots.AxesSubplot at 0x20f9052f088>"
      ]
     },
     "execution_count": 73,
     "metadata": {},
     "output_type": "execute_result"
    },
    {
     "data": {
      "image/png": "[encoded data removed]",
      "text/plain": [
       "<Figure size 432x288 with 1 Axes>"
      ]
     },
     "metadata": {
      "needs_background": "light"
     },
     "output_type": "display_data"
    }
   ],
   "source": [
    "# resample by year and plot close price\n",
    "bc.resample('Y').mean()['Close'].plot()"
   ]
  },
  {
   "cell_type": "code",
   "execution_count": null,
   "metadata": {},
   "outputs": [],
   "source": []
  }
 ],
 "metadata": {
  "kernelspec": {
   "display_name": "Python 3",
   "language": "python",
   "name": "python3"
  },
  "language_info": {
   "codemirror_mode": {
    "name": "ipython",
    "version": 3
   },
   "file_extension": ".py",
   "mimetype": "text/x-python",
   "name": "python",
   "nbconvert_exporter": "python",
   "pygments_lexer": "ipython3",
   "version": "3.7.6"
  }
 },
 "nbformat": 4,
 "nbformat_minor": 4
}
